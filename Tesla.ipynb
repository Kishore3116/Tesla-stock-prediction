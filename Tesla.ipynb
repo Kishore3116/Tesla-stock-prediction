{
 "cells": [
  {
   "cell_type": "code",
   "execution_count": 3,
   "id": "548fa56d-2593-4513-a780-630221df6796",
   "metadata": {},
   "outputs": [
    {
     "name": "stdout",
     "output_type": "stream",
     "text": [
      "Mean squared error: 304715931636192.8\n",
      "R-squared score: 0.4981100335468941\n"
     ]
    }
   ],
   "source": [
    "# prompt: linear regression program\n",
    "\n",
    "import pandas as pd\n",
    "from sklearn.linear_model import LinearRegression\n",
    "from sklearn.model_selection import train_test_split\n",
    "from sklearn.metrics import mean_squared_error, r2_score\n",
    "\n",
    "# Load the dataset\n",
    "df = pd.read_csv(r\"C:\\Users\\skish\\Downloads\\TESLA.csv\")\n",
    "\n",
    "from sklearn import preprocessing\n",
    "le=preprocessing.LabelEncoder()\n",
    "df['Date']=le.fit_transform(df['Date'])\n",
    "df['Date'].unique()\n",
    "\n",
    "# Split the data into training and testing sets\n",
    "X_train, X_test, y_train, y_test = train_test_split(df.iloc[:,:-1], df.iloc[:,-1], test_size=0.2)\n",
    "\n",
    "# Create a linear regression model\n",
    "model = LinearRegression()\n",
    "\n",
    "# Train the model\n",
    "model.fit(X_train, y_train)\n",
    "\n",
    "# Make predictions on the test set\n",
    "y_pred = model.predict(X_test)\n",
    "\n",
    "# Evaluate the model\n",
    "mse = mean_squared_error(y_test, y_pred)\n",
    "r2 = r2_score(y_test, y_pred)\n",
    "\n",
    "print(\"Mean squared error:\", mse)\n",
    "print(\"R-squared score:\", r2)\n"
   ]
  },
  {
   "cell_type": "code",
   "execution_count": 4,
   "id": "64b5fc2e-7fc6-4e82-aaee-6ea659e97884",
   "metadata": {},
   "outputs": [
    {
     "data": {
      "text/html": [
       "<div>\n",
       "<style scoped>\n",
       "    .dataframe tbody tr th:only-of-type {\n",
       "        vertical-align: middle;\n",
       "    }\n",
       "\n",
       "    .dataframe tbody tr th {\n",
       "        vertical-align: top;\n",
       "    }\n",
       "\n",
       "    .dataframe thead th {\n",
       "        text-align: right;\n",
       "    }\n",
       "</style>\n",
       "<table border=\"1\" class=\"dataframe\">\n",
       "  <thead>\n",
       "    <tr style=\"text-align: right;\">\n",
       "      <th></th>\n",
       "      <th>Date</th>\n",
       "      <th>Open</th>\n",
       "      <th>High</th>\n",
       "      <th>Low</th>\n",
       "      <th>Close</th>\n",
       "      <th>Adj Close</th>\n",
       "      <th>Volume</th>\n",
       "    </tr>\n",
       "  </thead>\n",
       "  <tbody>\n",
       "    <tr>\n",
       "      <th>0</th>\n",
       "      <td>0</td>\n",
       "      <td>259.933319</td>\n",
       "      <td>264.500000</td>\n",
       "      <td>256.893341</td>\n",
       "      <td>260.436676</td>\n",
       "      <td>260.436676</td>\n",
       "      <td>62828700</td>\n",
       "    </tr>\n",
       "    <tr>\n",
       "      <th>1</th>\n",
       "      <td>1</td>\n",
       "      <td>260.333344</td>\n",
       "      <td>263.043335</td>\n",
       "      <td>258.333344</td>\n",
       "      <td>258.493347</td>\n",
       "      <td>258.493347</td>\n",
       "      <td>53868000</td>\n",
       "    </tr>\n",
       "    <tr>\n",
       "      <th>2</th>\n",
       "      <td>2</td>\n",
       "      <td>259.466675</td>\n",
       "      <td>260.260010</td>\n",
       "      <td>254.529999</td>\n",
       "      <td>258.406677</td>\n",
       "      <td>258.406677</td>\n",
       "      <td>51094200</td>\n",
       "    </tr>\n",
       "    <tr>\n",
       "      <th>3</th>\n",
       "      <td>3</td>\n",
       "      <td>265.500000</td>\n",
       "      <td>268.989990</td>\n",
       "      <td>258.706665</td>\n",
       "      <td>260.510010</td>\n",
       "      <td>260.510010</td>\n",
       "      <td>91449900</td>\n",
       "    </tr>\n",
       "    <tr>\n",
       "      <th>4</th>\n",
       "      <td>4</td>\n",
       "      <td>261.600006</td>\n",
       "      <td>265.769989</td>\n",
       "      <td>258.066681</td>\n",
       "      <td>260.196655</td>\n",
       "      <td>260.196655</td>\n",
       "      <td>55297800</td>\n",
       "    </tr>\n",
       "    <tr>\n",
       "      <th>...</th>\n",
       "      <td>...</td>\n",
       "      <td>...</td>\n",
       "      <td>...</td>\n",
       "      <td>...</td>\n",
       "      <td>...</td>\n",
       "      <td>...</td>\n",
       "      <td>...</td>\n",
       "    </tr>\n",
       "    <tr>\n",
       "      <th>248</th>\n",
       "      <td>248</td>\n",
       "      <td>283.089996</td>\n",
       "      <td>284.500000</td>\n",
       "      <td>272.820007</td>\n",
       "      <td>275.329987</td>\n",
       "      <td>275.329987</td>\n",
       "      <td>63615400</td>\n",
       "    </tr>\n",
       "    <tr>\n",
       "      <th>249</th>\n",
       "      <td>249</td>\n",
       "      <td>271.829987</td>\n",
       "      <td>284.089996</td>\n",
       "      <td>270.309998</td>\n",
       "      <td>276.010010</td>\n",
       "      <td>276.010010</td>\n",
       "      <td>58076900</td>\n",
       "    </tr>\n",
       "    <tr>\n",
       "      <th>250</th>\n",
       "      <td>250</td>\n",
       "      <td>283.839996</td>\n",
       "      <td>288.670013</td>\n",
       "      <td>277.510010</td>\n",
       "      <td>282.940002</td>\n",
       "      <td>282.940002</td>\n",
       "      <td>61925200</td>\n",
       "    </tr>\n",
       "    <tr>\n",
       "      <th>251</th>\n",
       "      <td>251</td>\n",
       "      <td>283.079987</td>\n",
       "      <td>289.000000</td>\n",
       "      <td>277.570007</td>\n",
       "      <td>287.809998</td>\n",
       "      <td>287.809998</td>\n",
       "      <td>54664800</td>\n",
       "    </tr>\n",
       "    <tr>\n",
       "      <th>252</th>\n",
       "      <td>252</td>\n",
       "      <td>282.760010</td>\n",
       "      <td>283.649994</td>\n",
       "      <td>265.779999</td>\n",
       "      <td>268.209991</td>\n",
       "      <td>268.209991</td>\n",
       "      <td>77393100</td>\n",
       "    </tr>\n",
       "  </tbody>\n",
       "</table>\n",
       "<p>253 rows × 7 columns</p>\n",
       "</div>"
      ],
      "text/plain": [
       "     Date        Open        High         Low       Close   Adj Close  \\\n",
       "0       0  259.933319  264.500000  256.893341  260.436676  260.436676   \n",
       "1       1  260.333344  263.043335  258.333344  258.493347  258.493347   \n",
       "2       2  259.466675  260.260010  254.529999  258.406677  258.406677   \n",
       "3       3  265.500000  268.989990  258.706665  260.510010  260.510010   \n",
       "4       4  261.600006  265.769989  258.066681  260.196655  260.196655   \n",
       "..    ...         ...         ...         ...         ...         ...   \n",
       "248   248  283.089996  284.500000  272.820007  275.329987  275.329987   \n",
       "249   249  271.829987  284.089996  270.309998  276.010010  276.010010   \n",
       "250   250  283.839996  288.670013  277.510010  282.940002  282.940002   \n",
       "251   251  283.079987  289.000000  277.570007  287.809998  287.809998   \n",
       "252   252  282.760010  283.649994  265.779999  268.209991  268.209991   \n",
       "\n",
       "       Volume  \n",
       "0    62828700  \n",
       "1    53868000  \n",
       "2    51094200  \n",
       "3    91449900  \n",
       "4    55297800  \n",
       "..        ...  \n",
       "248  63615400  \n",
       "249  58076900  \n",
       "250  61925200  \n",
       "251  54664800  \n",
       "252  77393100  \n",
       "\n",
       "[253 rows x 7 columns]"
      ]
     },
     "execution_count": 4,
     "metadata": {},
     "output_type": "execute_result"
    }
   ],
   "source": [
    "df"
   ]
  },
  {
   "cell_type": "code",
   "execution_count": 9,
   "id": "40a41132-7cc3-4572-a52f-32d54501c874",
   "metadata": {},
   "outputs": [
    {
     "name": "stdout",
     "output_type": "stream",
     "text": [
      "[64230091.43373933]\n"
     ]
    },
    {
     "name": "stderr",
     "output_type": "stream",
     "text": [
      "C:\\Users\\skish\\anaconda3\\Lib\\site-packages\\sklearn\\base.py:439: UserWarning: X does not have valid feature names, but LinearRegression was fitted with feature names\n",
      "  warnings.warn(\n"
     ]
    }
   ],
   "source": [
    "prediction=model.predict([[4,261.600006,265.769989,258.066681,260.196655,260.196655]])\n",
    "print(prediction)"
   ]
  },
  {
   "cell_type": "code",
   "execution_count": 15,
   "id": "49a429b0-f729-42d7-921f-a17cbb66f1dc",
   "metadata": {},
   "outputs": [
    {
     "name": "stdout",
     "output_type": "stream",
     "text": [
      "mean_squared_error= 391842386697962.7\n",
      "r2_score=0.35460623519500023\n"
     ]
    }
   ],
   "source": [
    "from sklearn.metrics import r2_score,mean_squared_error\n",
    "from sklearn.ensemble import RandomForestRegressor\n",
    "model2 = RandomForestRegressor()\n",
    "model2.fit(X_train, y_train)\n",
    "ypred = model2.predict(X_test)\n",
    "a = mean_squared_error(y_test,ypred)\n",
    "print(\"mean_squared_error=\",a)\n",
    "score = r2_score(y_test,ypred)\n",
    "print(f\"r2_score={score}\")"
   ]
  },
  {
   "cell_type": "code",
   "execution_count": 16,
   "id": "81430129-2763-4f9d-a61e-090ee4c3e0a2",
   "metadata": {},
   "outputs": [
    {
     "name": "stdout",
     "output_type": "stream",
     "text": [
      "[[0 0 0 ... 0 0 0]\n",
      " [0 0 0 ... 0 0 0]\n",
      " [0 0 0 ... 0 0 0]\n",
      " ...\n",
      " [0 0 0 ... 0 0 0]\n",
      " [0 0 0 ... 0 0 0]\n",
      " [0 0 0 ... 0 0 0]]\n"
     ]
    }
   ],
   "source": [
    "#Confusion matrix\n",
    "from sklearn.metrics import confusion_matrix,classification_report\n",
    "cm=confusion_matrix(y_test,ypred)\n",
    "print(cm)\n"
   ]
  },
  {
   "cell_type": "code",
   "execution_count": null,
   "id": "779485c7-0fda-4d3e-a782-3a4ed0627e42",
   "metadata": {},
   "outputs": [],
   "source": []
  }
 ],
 "metadata": {
  "kernelspec": {
   "display_name": "Python 3 (ipykernel)",
   "language": "python",
   "name": "python3"
  },
  "language_info": {
   "codemirror_mode": {
    "name": "ipython",
    "version": 3
   },
   "file_extension": ".py",
   "mimetype": "text/x-python",
   "name": "python",
   "nbconvert_exporter": "python",
   "pygments_lexer": "ipython3",
   "version": "3.11.7"
  }
 },
 "nbformat": 4,
 "nbformat_minor": 5
}
